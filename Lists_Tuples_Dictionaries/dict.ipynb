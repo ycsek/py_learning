{
 "cells": [
  {
   "cell_type": "code",
   "execution_count": null,
   "metadata": {},
   "outputs": [
    {
     "name": "stdout",
     "output_type": "stream",
     "text": [
      "{'Chinese': 90, 'Math': 98, 'English': 100}\n",
      "{}\n",
      "{(20, 30): 'good', 30: 'bad'}\n"
     ]
    }
   ],
   "source": [
    "# create a dictionary\n",
    "scores = {\"Chinese\": 90 , \"Math\": 98, \"English\":100}\n",
    "print(scores)\n",
    "empty_dict = {}\n",
    "print(empty_dict)\n",
    "dict2 = {(20,30):'good', 30:'bad'} # key can be tuple, but not list, dict's key must be immutable\n",
    "print(dict2)"
   ]
  },
  {
   "cell_type": "code",
   "execution_count": 5,
   "metadata": {},
   "outputs": [
    {
     "name": "stdout",
     "output_type": "stream",
     "text": [
      "{'BMW': 8.5, 'BENS': 8.3, 'AUDI': 7.9}\n",
      "{'spinach': 1.39, 'cabbage': 2.59}\n"
     ]
    }
   ],
   "source": [
    "cars = {'BMW': 8.5, 'BENS': 8.3, 'AUDI': 7.9}\n",
    "dict3 = dict(cars)\n",
    "print(dict3)\n",
    "dict4 = dict(spinach=1.39, cabbage=2.59)\n",
    "print(dict4)"
   ]
  },
  {
   "cell_type": "code",
   "execution_count": null,
   "metadata": {},
   "outputs": [
    {
     "name": "stdout",
     "output_type": "stream",
     "text": [
      "90\n",
      "{'Chinese': 90, 'Math': 98, 'English': 100}\n",
      "{'Chinese': 90, 'English': 100}\n",
      "{'Chinese': 95, 'English': 100}\n"
     ]
    }
   ],
   "source": [
    "scores = {\"Chinese\": 90}\n",
    "print(scores[\"Chinese\"])\n",
    "# add a new key-value pair\n",
    "scores[\"Math\"] = 98\n",
    "scores[\"English\"] = 100\n",
    "print(scores)\n",
    "# del a key-value pair\n",
    "del scores[\"Math\"]\n",
    "print(scores)\n",
    "# cover the value of a key\n",
    "scores[\"Chinese\"] = 95\n",
    "print(scores)"
   ]
  },
  {
   "cell_type": "code",
   "execution_count": 9,
   "metadata": {},
   "outputs": [
    {
     "name": "stdout",
     "output_type": "stream",
     "text": [
      "False\n",
      "True\n"
     ]
    }
   ],
   "source": [
    "# in and not in\n",
    "print(\"Math\" in scores)\n",
    "print(\"Math\" not in scores)"
   ]
  },
  {
   "cell_type": "code",
   "execution_count": 10,
   "metadata": {},
   "outputs": [
    {
     "data": {
      "text/plain": [
       "['__class__',\n",
       " '__class_getitem__',\n",
       " '__contains__',\n",
       " '__delattr__',\n",
       " '__delitem__',\n",
       " '__dir__',\n",
       " '__doc__',\n",
       " '__eq__',\n",
       " '__format__',\n",
       " '__ge__',\n",
       " '__getattribute__',\n",
       " '__getitem__',\n",
       " '__getstate__',\n",
       " '__gt__',\n",
       " '__hash__',\n",
       " '__init__',\n",
       " '__init_subclass__',\n",
       " '__ior__',\n",
       " '__iter__',\n",
       " '__le__',\n",
       " '__len__',\n",
       " '__lt__',\n",
       " '__ne__',\n",
       " '__new__',\n",
       " '__or__',\n",
       " '__reduce__',\n",
       " '__reduce_ex__',\n",
       " '__repr__',\n",
       " '__reversed__',\n",
       " '__ror__',\n",
       " '__setattr__',\n",
       " '__setitem__',\n",
       " '__sizeof__',\n",
       " '__str__',\n",
       " '__subclasshook__',\n",
       " 'clear',\n",
       " 'copy',\n",
       " 'fromkeys',\n",
       " 'get',\n",
       " 'items',\n",
       " 'keys',\n",
       " 'pop',\n",
       " 'popitem',\n",
       " 'setdefault',\n",
       " 'update',\n",
       " 'values']"
      ]
     },
     "execution_count": 10,
     "metadata": {},
     "output_type": "execute_result"
    }
   ],
   "source": [
    "dir(dict)"
   ]
  },
  {
   "cell_type": "code",
   "execution_count": 11,
   "metadata": {},
   "outputs": [
    {
     "name": "stdout",
     "output_type": "stream",
     "text": [
      "{}\n"
     ]
    }
   ],
   "source": [
    "cars.clear()\n",
    "print(cars)"
   ]
  },
  {
   "cell_type": "code",
   "execution_count": 13,
   "metadata": {},
   "outputs": [
    {
     "name": "stdout",
     "output_type": "stream",
     "text": [
      "8.5\n",
      "None\n"
     ]
    }
   ],
   "source": [
    "cars = {'BMW': 8.5, 'BENS': 8.3, 'AUDI': 7.9}\n",
    "print(cars.get('BMW'))\n",
    "print(cars.get('PORSCHE'))"
   ]
  },
  {
   "cell_type": "code",
   "execution_count": 14,
   "metadata": {},
   "outputs": [
    {
     "name": "stdout",
     "output_type": "stream",
     "text": [
      "{'BMW': 8.5, 'BENS': 8.3, 'AUDI': 7.9, 'PORSCHE': 9.8}\n"
     ]
    }
   ],
   "source": [
    "cars.update({'PORSCHE': 9.8})\n",
    "print(cars)"
   ]
  },
  {
   "cell_type": "code",
   "execution_count": null,
   "metadata": {},
   "outputs": [
    {
     "name": "stdout",
     "output_type": "stream",
     "text": [
      "dict_items([('BMW', 8.5), ('BENS', 8.3)])\n",
      "[('BMW', 8.5), ('BENS', 8.3)]\n",
      "('BENS', 8.3)\n",
      "<class 'dict_keys'>\n",
      "<class 'dict_values'>\n",
      "8.3\n",
      "{'BMW': 8.5, 'BENS': 8.3}\n"
     ]
    }
   ],
   "source": [
    "# get all keys\n",
    "ims = cars.items()\n",
    "print(ims)\n",
    "# convert to list\n",
    "print(list(ims))\n",
    "print(list(ims)[1])\n",
    "# get key's object\n",
    "kys = cars.keys()\n",
    "print(type(kys))\n",
    "vals = cars.values()\n",
    "print(type(vals))\n",
    "print(list(vals)[1])\n",
    "# pop \n",
    "print(cars.pop('AUDI'))\n",
    "print(cars)"
   ]
  },
  {
   "cell_type": "code",
   "execution_count": 25,
   "metadata": {},
   "outputs": [
    {
     "name": "stdout",
     "output_type": "stream",
     "text": [
      "{'BMW': 8.5, 'BENS': 8.3, 'AUDI': 7.9}\n",
      "('AUDI', 7.9)\n",
      "{'BMW': 8.5, 'BENS': 8.3}\n"
     ]
    }
   ],
   "source": [
    "cars = {'BMW': 8.5, 'BENS': 8.3, 'AUDI': 7.9}\n",
    "print(cars)\n",
    "print(cars.popitem())\n",
    "print(cars)"
   ]
  },
  {
   "cell_type": "code",
   "execution_count": 26,
   "metadata": {},
   "outputs": [
    {
     "name": "stdout",
     "output_type": "stream",
     "text": [
      "BENS 8.3\n"
     ]
    }
   ],
   "source": [
    "k,v = cars.popitem()\n",
    "print(k,v)"
   ]
  },
  {
   "cell_type": "code",
   "execution_count": null,
   "metadata": {},
   "outputs": [
    {
     "name": "stdout",
     "output_type": "stream",
     "text": [
      "9.8\n",
      "{'BMW': 8.5, 'PORSCHE': 9.8}\n",
      "9.8\n",
      "{'BMW': 8.5, 'PORSCHE': 9.8}\n"
     ]
    }
   ],
   "source": [
    "# setdefault, if key already exists, return the value, if not, add the key-value pair\n",
    "print(cars.setdefault('PORSCHE', 9.8))\n",
    "print(cars)\n",
    "print(cars.setdefault('PORSCHE', 9.9))\n",
    "print(cars)"
   ]
  },
  {
   "cell_type": "code",
   "execution_count": 28,
   "metadata": {},
   "outputs": [
    {
     "name": "stdout",
     "output_type": "stream",
     "text": [
      "{'a': None, 'b': None}\n",
      "{13: None, 17: None}\n",
      "{13: 'good', 17: 'good'}\n"
     ]
    }
   ],
   "source": [
    "a_dict =dict.fromkeys(['a','b'])\n",
    "print(a_dict)\n",
    "b_dict =dict.fromkeys((13,17))\n",
    "print(b_dict)\n",
    "c_dict = dict.fromkeys((13,17), 'good')\n",
    "print(c_dict)"
   ]
  },
  {
   "cell_type": "code",
   "execution_count": 30,
   "metadata": {},
   "outputs": [
    {
     "name": "stdout",
     "output_type": "stream",
     "text": [
      "The score of Chinese is 95, Math is 98, English is 100\n"
     ]
    }
   ],
   "source": [
    "# use dict to format string\n",
    "scores[\"Math\"] = 98  # Add the missing key-value pair\n",
    "temp = 'The score of Chinese is %(Chinese)d, Math is %(Math)d, English is %(English)d'\n",
    "print(temp % scores)\n"
   ]
  }
 ],
 "metadata": {
  "kernelspec": {
   "display_name": "base",
   "language": "python",
   "name": "python3"
  },
  "language_info": {
   "codemirror_mode": {
    "name": "ipython",
    "version": 3
   },
   "file_extension": ".py",
   "mimetype": "text/x-python",
   "name": "python",
   "nbconvert_exporter": "python",
   "pygments_lexer": "ipython3",
   "version": "3.12.4"
  }
 },
 "nbformat": 4,
 "nbformat_minor": 2
}

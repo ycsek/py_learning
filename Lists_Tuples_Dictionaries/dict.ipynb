{
 "cells": [
  {
   "cell_type": "code",
   "execution_count": null,
   "metadata": {},
   "outputs": [],
   "source": [
    "# create a dictionary\n",
    "scores = {\"Chinese\": 90 , \"Math\": 98, \"English\":100}\n",
    "print(scores)\n",
    "empty_dict = {}\n",
    "print(empty_dict)\n",
    "dict2 = {(20,30):'good', 30:'bad'} # key can be tuple, but not list, dict's key must be immutable\n",
    "print(dict2)"
   ]
  },
  {
   "cell_type": "code",
   "execution_count": null,
   "metadata": {},
   "outputs": [],
   "source": [
    "cars = {'BMW': 8.5, 'BENS': 8.3, 'AUDI': 7.9}\n",
    "dict3 = dict(cars)\n",
    "print(dict3)\n",
    "dict4 = dict(spinach=1.39, cabbage=2.59)\n",
    "print(dict4)"
   ]
  },
  {
   "cell_type": "code",
   "execution_count": null,
   "metadata": {},
   "outputs": [],
   "source": [
    "scores = {\"Chinese\": 90}\n",
    "print(scores[\"Chinese\"])\n",
    "# add a new key-value pair\n",
    "scores[\"Math\"] = 98\n",
    "scores[\"English\"] = 100\n",
    "print(scores)\n",
    "# del a key-value pair\n",
    "del scores[\"Math\"]\n",
    "print(scores)\n",
    "# cover the value of a key\n",
    "scores[\"Chinese\"] = 95\n",
    "print(scores)"
   ]
  },
  {
   "cell_type": "code",
   "execution_count": null,
   "metadata": {},
   "outputs": [],
   "source": [
    "# in and not in\n",
    "print(\"Math\" in scores)\n",
    "print(\"Math\" not in scores)"
   ]
  },
  {
   "cell_type": "code",
   "execution_count": null,
   "metadata": {},
   "outputs": [],
   "source": [
    "dir(dict)"
   ]
  },
  {
   "cell_type": "code",
   "execution_count": null,
   "metadata": {},
   "outputs": [],
   "source": [
    "cars.clear()\n",
    "print(cars)"
   ]
  },
  {
   "cell_type": "code",
   "execution_count": null,
   "metadata": {},
   "outputs": [],
   "source": [
    "cars = {'BMW': 8.5, 'BENS': 8.3, 'AUDI': 7.9}\n",
    "print(cars.get('BMW'))\n",
    "print(cars.get('PORSCHE'))"
   ]
  },
  {
   "cell_type": "code",
   "execution_count": null,
   "metadata": {},
   "outputs": [],
   "source": [
    "cars.update({'PORSCHE': 9.8})\n",
    "print(cars)"
   ]
  },
  {
   "cell_type": "code",
   "execution_count": null,
   "metadata": {},
   "outputs": [],
   "source": [
    "# get all keys\n",
    "ims = cars.items()\n",
    "print(ims)\n",
    "# convert to list\n",
    "print(list(ims))\n",
    "print(list(ims)[1])\n",
    "# get key's object\n",
    "kys = cars.keys()\n",
    "print(type(kys))\n",
    "vals = cars.values()\n",
    "print(type(vals))\n",
    "print(list(vals)[1])\n",
    "# pop \n",
    "print(cars.pop('AUDI'))\n",
    "print(cars)"
   ]
  },
  {
   "cell_type": "code",
   "execution_count": null,
   "metadata": {},
   "outputs": [],
   "source": [
    "cars = {'BMW': 8.5, 'BENS': 8.3, 'AUDI': 7.9}\n",
    "print(cars)\n",
    "print(cars.popitem())\n",
    "print(cars)"
   ]
  },
  {
   "cell_type": "code",
   "execution_count": null,
   "metadata": {},
   "outputs": [],
   "source": [
    "k,v = cars.popitem()\n",
    "print(k,v)"
   ]
  },
  {
   "cell_type": "code",
   "execution_count": null,
   "metadata": {},
   "outputs": [],
   "source": [
    "# setdefault, if key already exists, return the value, if not, add the key-value pair\n",
    "print(cars.setdefault('PORSCHE', 9.8))\n",
    "print(cars)\n",
    "print(cars.setdefault('PORSCHE', 9.9))\n",
    "print(cars)"
   ]
  },
  {
   "cell_type": "code",
   "execution_count": null,
   "metadata": {},
   "outputs": [],
   "source": [
    "a_dict =dict.fromkeys(['a','b'])\n",
    "print(a_dict)\n",
    "b_dict =dict.fromkeys((13,17))\n",
    "print(b_dict)\n",
    "c_dict = dict.fromkeys((13,17), 'good')\n",
    "print(c_dict)"
   ]
  },
  {
   "cell_type": "code",
   "execution_count": null,
   "metadata": {},
   "outputs": [],
   "source": [
    "# use dict to format string\n",
    "scores[\"Math\"] = 98  # Add the missing key-value pair\n",
    "temp = 'The score of Chinese is %(Chinese)d, Math is %(Math)d, English is %(English)d'\n",
    "print(temp % scores)\n"
   ]
  }
 ],
 "metadata": {
  "kernelspec": {
   "display_name": "base",
   "language": "python",
   "name": "python3"
  },
  "language_info": {
   "codemirror_mode": {
    "name": "ipython",
    "version": 3
   },
   "file_extension": ".py",
   "mimetype": "text/x-python",
   "name": "python",
   "nbconvert_exporter": "python",
   "pygments_lexer": "ipython3",
   "version": "3.12.4"
  }
 },
 "nbformat": 4,
 "nbformat_minor": 2
}

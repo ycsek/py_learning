{
 "cells": [
  {
   "cell_type": "code",
   "execution_count": null,
   "metadata": {},
   "outputs": [],
   "source": [
    "# Create a list\n",
    "my_list = [\"Jason\", 20, \"Python\"]\n",
    "print(my_list)\n",
    "\n",
    "# Create a tuple\n",
    "my_tuple = (\"Jason\", 20, \"Python\")\n",
    "print(my_tuple)"
   ]
  },
  {
   "cell_type": "code",
   "execution_count": null,
   "metadata": {},
   "outputs": [],
   "source": [
    "# use index to access elements\n",
    "a_tuple = (\"Jason\", 20, \"Python\",\"FDS\")\n",
    "print(a_tuple)\n",
    "print(a_tuple[0])\n",
    "print(a_tuple[1])\n",
    "print(a_tuple[-2])"
   ]
  },
  {
   "cell_type": "code",
   "execution_count": null,
   "metadata": {},
   "outputs": [],
   "source": [
    "# sub-sequences\n",
    "print(a_tuple[0:2]) # the first two elements\n",
    "print(a_tuple[1:]) # all elements except the first\n",
    "print(a_tuple[-3:-1]) # the first two elements\n",
    "print(a_tuple[8:10]) # empty tuple\n",
    "\n",
    "b_tuple = (1,2,3,4,5,6,7,8,9,10)\n",
    "print(b_tuple[2:8:2]) # the 3rd to 8th elements in steps of 2\n",
    "print(b_tuple[2:8:3]) # the 3rd to 8th elements in steps of 3"
   ]
  },
  {
   "cell_type": "code",
   "execution_count": null,
   "metadata": {},
   "outputs": [],
   "source": [
    "# plus \n",
    "sum_tuple = a_tuple + b_tuple\n",
    "print(sum_tuple)\n",
    "print(a_tuple + (-20, -30))\n",
    "\n",
    "a_list = [1,2,3,4,5]\n",
    "b_list = [6,7,8,9,10]\n",
    "print(a_list + b_list)\n",
    "print(a_list + ['test'])"
   ]
  },
  {
   "cell_type": "code",
   "execution_count": null,
   "metadata": {},
   "outputs": [],
   "source": [
    "# multiply\n",
    "mult_tuple = a_tuple * 2\n",
    "print(mult_tuple)\n",
    "c_list = [30, 'Python', 2]\n",
    "print(c_list * 2)"
   ]
  },
  {
   "cell_type": "code",
   "execution_count": null,
   "metadata": {},
   "outputs": [],
   "source": [
    "order_endings = ('st', 'nd', 'rd') + ('th',)*17 + ('st', 'nd', 'rd') + ('th',)*7 + ('st',)\n",
    "print(order_endings)\n",
    "dey = input(\"Enter the day of the month (1-31): \")\n",
    "day = int(dey)\n",
    "print(dey + order_endings[day-1])"
   ]
  },
  {
   "cell_type": "code",
   "execution_count": null,
   "metadata": {},
   "outputs": [],
   "source": [
    "# in operator\n",
    "print(20 in a_tuple)\n",
    "print(1.2 in a_tuple)\n",
    "print(20 not in a_tuple)"
   ]
  },
  {
   "cell_type": "code",
   "execution_count": null,
   "metadata": {},
   "outputs": [],
   "source": [
    "# length and max and min\n",
    "print(len(a_tuple))\n",
    "print(max(b_tuple))\n",
    "print(min(b_tuple))\n"
   ]
  },
  {
   "cell_type": "code",
   "execution_count": null,
   "metadata": {},
   "outputs": [],
   "source": [
    "# squence packing and unpacking\n",
    "vals = 10,20,30\n",
    "print(vals)\n",
    "print(type(vals))\n",
    "print(vals[1])\n",
    "a_tuple = tuple(range(1,10,2))\n",
    "a,b,c,d,e = a_tuple\n",
    "print(a,b,c,d,e)\n",
    "a_list = [\"CityU\", \"FDS\"]\n",
    "school,Faculty = a_list\n",
    "print(school, Faculty)"
   ]
  },
  {
   "cell_type": "code",
   "execution_count": null,
   "metadata": {},
   "outputs": [],
   "source": [
    "x, y, z = 10, 20, 30\n",
    "print(x, y, z)\n",
    "xyz = 10, 20, 30\n",
    "print(xyz)\n",
    "x, y, z = xyz\n",
    "x, y ,z = y, z, x\n",
    "print(x, y, z)\n"
   ]
  },
  {
   "cell_type": "code",
   "execution_count": null,
   "metadata": {},
   "outputs": [],
   "source": [
    "# append and remove\n",
    "a_list = [1,2,3,4,5]\n",
    "a_list.append(6)\n",
    "print(a_list)\n",
    "a_tuple = (3.14, 2.71, 1.41)\n",
    "a_list.append(a_tuple)\n",
    "print(a_list)\n",
    "a_list.append(['a', 'b', 'c'])\n",
    "print(a_list)\n",
    "a_list.extend(['a', 'b', 'c'])\n",
    "print(a_list)"
   ]
  },
  {
   "cell_type": "code",
   "execution_count": null,
   "metadata": {},
   "outputs": [],
   "source": [
    "c_list = list(range(1,6))\n",
    "print(c_list)\n",
    "c_list.insert(3, 3.14)\n",
    "print(c_list)\n",
    "c_list.insert(3, tuple('pi'))\n",
    "print(c_list)\n",
    "\n",
    "del a_list[2]\n",
    "print(a_list)\n",
    "del a_list[1:3]\n",
    "print(a_list)\n",
    "\n",
    "c_list.clear()\n",
    "print(c_list)"
   ]
  },
  {
   "cell_type": "code",
   "execution_count": null,
   "metadata": {},
   "outputs": [],
   "source": [
    "# modify elements\n",
    "a_list = [1,2,3,4,5]\n",
    "a_list[2] = 'CityU' # replace the 3rd element\n",
    "print(a_list)\n",
    "a_list[1:3] = [10, 20, 30]\n",
    "print(a_list)\n",
    "b_list = list(range(1,5))\n",
    "b_list[1:3] = ['a','b']\n",
    "print(b_list)\n",
    "b_list[2:2] = ['x','y'] # due to the empty slice, the elements are inserted\n",
    "print(b_list)"
   ]
  },
  {
   "cell_type": "code",
   "execution_count": null,
   "metadata": {},
   "outputs": [],
   "source": [
    "b_list[2:5] = [] # remove elements\n",
    "print(b_list)\n",
    "b_list[1:3] = 'Charlie'  # letters are treated as a sequence\n",
    "print(b_list)"
   ]
  },
  {
   "cell_type": "code",
   "execution_count": null,
   "metadata": {},
   "outputs": [],
   "source": [
    "# stack\n",
    "stack = []\n",
    "stack.append(\"Jason\")\n",
    "stack.append(\"CityU\")\n",
    "stack.append(\"FDS\")\n",
    "print(stack)\n",
    "print(stack.pop())\n",
    "print(stack)\n",
    "print(stack.pop())\n",
    "print(stack)"
   ]
  },
  {
   "cell_type": "code",
   "execution_count": null,
   "metadata": {},
   "outputs": [],
   "source": [
    "# reverse \n",
    "a_list = list(range(1,6))\n",
    "print(a_list)\n",
    "a_list.reverse()\n",
    "print(a_list)"
   ]
  },
  {
   "cell_type": "code",
   "execution_count": null,
   "metadata": {},
   "outputs": [],
   "source": [
    "# sort\n",
    "a_list = [3, 1, 4, 1, 5, 9, 2, 6, 5]\n",
    "a_list.sort()\n",
    "print(a_list)\n",
    "b_list = ['Python', 'Java', 'C++', 'C#', 'Ruby']\n",
    "b_list.sort()\n",
    "print(b_list)\n",
    "b_list.sort(key = len) # sort by length\n",
    "print(b_list)\n",
    "b_list.sort(key=len, reverse=True) # sort by length in descending order\n",
    "print(b_list)"
   ]
  }
 ],
 "metadata": {
  "kernelspec": {
   "display_name": "base",
   "language": "python",
   "name": "python3"
  },
  "language_info": {
   "codemirror_mode": {
    "name": "ipython",
    "version": 3
   },
   "file_extension": ".py",
   "mimetype": "text/x-python",
   "name": "python",
   "nbconvert_exporter": "python",
   "pygments_lexer": "ipython3",
   "version": "3.12.4"
  }
 },
 "nbformat": 4,
 "nbformat_minor": 2
}
